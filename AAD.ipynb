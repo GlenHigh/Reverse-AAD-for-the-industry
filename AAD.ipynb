{
 "cells": [
  {
   "cell_type": "markdown",
   "metadata": {},
   "source": [
    "# Exploring automatic differentiation in quantitative finance\n",
    "\n",
    "Concatenation and research extension by Glen HIGH"
   ]
  },
  {
   "cell_type": "markdown",
   "metadata": {},
   "source": [
    "## Introduction\n",
    "\n",
    "In computational finance, finding prices is only a fraction of the game. The most calculation-costly step is to get all partial derivatives, the so-called greeks. Indeed, an increasivelly heavy regulatory framework regarding those greeks lead to a spike of interrest in new numerical methods by market practitionners. Under BCBS's Minimum capital requirements for market risk, an investment bank is supposed to be able to compute many sensitivities to be plugged into the capital requirement formula. For instance, [2, Section B.2.iii.] demands to compute delta, vega and curvature for “each financial product with optionality” owned by a bank. These sensitivities are partial derivatives of the value of the instrument with respect to different risk factors, grouped into risk classes. Seven risk classes are defined. As an example, the risk factors of the General Interest Rate Risk class are [2, pp20-22] :\n",
    "\n",
    "- for the delta: “delta risk factors are defined along two dimensions: a risk-free yield curve for each currency in which interest rate-sensitive instruments are denominated and” ten maturities.\n",
    "- For the vega: “within each currency, the vega risk factors are the implied volatilities of options that reference general interest rate risk-sensitive underlyings; further defined along two dimensions: Residual maturity of the underlying of the option at the expiry date of the option and the Residual maturity of the underlying of the option at the expiry date of the option.” Each of them over 5 maturities.\n",
    "\n",
    "We just listed more than 30 sensitivities to compute, belonging to one of the seven risk classes, to be applied on each financial instrument owned by the bank. Each sensitivity is a partial derivative. Algorithmic automatic differentiation is a legitimate answer to this need.\n"
   ]
  },
  {
   "cell_type": "markdown",
   "metadata": {},
   "source": [
    "## 1 Review of different methodologies\n",
    "\n",
    "| Methodology | Efficiency | Precision |\n",
    "| :----------- | :----------- | :----------- |\n",
    "| Finite difference | Finite difference requires several amounts of pricing function calls (2 for 1st order, 3 for 2nd, ...) for which many computation steps are identical, let's not even talk about the monte-carlo pricing case | Finite difference method is firstly an approximator that is also prone to computer precision error when dealing with smal values of h |\n",
    "| Hard-coded derivatives | Evaluation of hard-coded derivative functions may relie on many values that have already been computed while first getting the price | Hard-coded derivatives has exact precision |\n",
    "\n",
    "Can't we keep the best of the two worlds? I.e. a mathematically precise derivative capitalizing on stored intermediate values and pre-coded elementary derivation formulas...\n"
   ]
  },
  {
   "cell_type": "markdown",
   "metadata": {},
   "source": [
    "## 2 Automatic differentiation\n",
    "\n",
    "Automatic differentiation exploits the fact that every computer calculation, no matter how complicated, executes a sequence of elementary arithmetic operations (addition, subtraction, multiplication, division, etc.) and elementary functions (exp, log, sin, cos, etc.). By applying the chain rule repeatedly to these operations, partial derivatives of arbitrary order can be computed automatically, accurately to working precision, and using at most a small constant factor of more arithmetic operations than the original program.\n",
    "\n",
    "### Forward mode\n",
    "\n",
    "In forward accumulation AD, one first fixes the independent variable with respect to which differentiation is performed and computes the derivative of each sub-expression recursively. In a pen-and-paper calculation, this involves repeatedly substituting the derivative of the inner functions in the chain rule:\n",
    "\n",
    "![image.png](https://wikimedia.org/api/rest_v1/media/math/render/svg/cb8633d881482245a77285d008ac3a902276c73c)\n",
    "\n",
    "In the following example is shown forward computation of the partial values with respect to inputs for the function :\n",
    "$$ f(x_1,x_2) = {sin(x_1) + x_2 \\times x_1 } $$\n",
    "\n",
    "![image.png](https://upload.wikimedia.org/wikipedia/commons/thumb/a/a4/ForwardAccumulationAutomaticDifferentiation.png/450px-ForwardAccumulationAutomaticDifferentiation.png)\n",
    "\n",
    "### Reverse (or adjoint) mode\n",
    "\n",
    "In reverse accumulation AD, the dependent variable to be differentiated is fixed and the derivative is computed with respect to each sub-expression recursively. In a pen-and-paper calculation, the derivative of the outer functions is repeatedly substituted in the chain rule:\n",
    "\n",
    "![image.png](https://wikimedia.org/api/rest_v1/media/math/render/svg/16bec7d55f27946c3dbe4e1e8eee9e390b31b7c9)\n",
    "\n",
    "In the following example is shown forward computation of the partial values with respect to inputs for the same function :\n",
    "$$ f(x_1,x_2) = {sin(x_1) + x_2 \\times x_1 } $$\n",
    "\n",
    "![image.png](https://upload.wikimedia.org/wikipedia/commons/thumb/a/a0/ReverseaccumulationAD.png/450px-ReverseaccumulationAD.png)\n",
    "\n",
    "\n",
    "### Reverse mode : practical use in finance and adapted differentiation scales\n",
    "\n",
    "#### a) A practical example\n",
    "\n",
    "As seen above, AAD is a matter of multiple derivations with respect to all variables, similar to the computation of a Jacobian matrix. The fact is that differentiation can be dealt with at several scales. This is a critical point for scalability of an AAD framework. Consider the following practical example for the absurdly anoying function f:\n",
    "\n",
    "$$ f(a,b,c)=(ln( e^{(sin(ab)+cb^2+a^3c^2)^2-1}+a^2)^2+1+cos(c^2-1)-d)^2 $$ \n",
    "\n",
    "Here, we will want to get by reverse AAD the partial derivatives of f with respect to a,b and c (d being a constant).\n",
    "Let us rewrite f as:\n",
    "\n",
    "$$ \\begin{aligned}f(a,b,c)&=(w-d)^2 \n",
    "\\\\ w&=ln(v^2+1)+cos(c^2-1) \n",
    "\\\\ v&=e^{(u)^2-1}+a^2 \n",
    "\\\\ u&=sin(ab)+cb^2+a^3c^2 \\end{aligned}$$ \n",
    "\n",
    "In that case, it is possible to write the adjoint deriving at the scale of intermediate variables u, v and w. To get those statements, we need to write the adjoints in reverse order:\n",
    "\n",
    "$$\\begin{aligned} &\\bar{w}=2(w-d)\\bar{f}\n",
    "\\\\ &\\bar{c}=-2csin(c^2-1)\\bar{w}\n",
    "\\\\ &\\bar{v}={2v \\over {v^2+1}}\\bar{w} \n",
    "\\\\ &\\bar{a}=2a\\bar{v} \n",
    "\\\\ &\\bar{u}=2ue^{u^2-1}\\bar{v} \n",
    "\\\\ &\\begin{bmatrix}\\bar{a} \\\\ \\bar{b} \\\\ \\bar{c}\\end{bmatrix} = \\begin{bmatrix}1 & 0 & 0 & bcos(ab)+3a^2c^2 \\\\ 0 & 1 & 0 & acos(ab)+2cb \\\\ 0 & 0 & 1 & b2+2a^3c \\end{bmatrix}\\begin{bmatrix}\\bar{a} \\\\ \\bar{b} \\\\ \\bar{c} \\\\ \\bar{u} \\end{bmatrix} \\end{aligned}$$\n",
    "\n",
    "We can then rephrase our adjoint chain as follows:\n",
    "$$ \\begin{aligned}\\bar{w}&=2(w-d)\\bar{f}\n",
    "\\\\ \\bar{c}&=-2csin(c^2-1)\\bar{w}\n",
    "\\\\ \\bar{v}&={2v \\over {v^2+1}}\\bar{w}\n",
    "\\\\ \\bar{a}&=2a\\bar{v}  \n",
    "\\\\ \\bar{u}&=2ue^{u^2-1}\\bar{v}\n",
    "\\\\ \\frac{\\partial f}{\\partial a} = \\bar{a}&=\\bar{a}+(bcos(ab)+3a^2c^2)\\bar{u}\n",
    "\\\\ \\frac{\\partial f}{\\partial b}=\\bar{b}&=\\bar{b}+(acos(ab)+2cb)\\bar{u}\n",
    "\\\\ \\frac{\\partial f}{\\partial c} =\\bar{c}&=\\bar{c}+(b^2+2a^3)c\\bar{u}\n",
    "\\end{aligned}$$ \n",
    "\n",
    "To get our derivatives w.r.t a,b and c all we have to do is: \n",
    "- compute forward to get w, v and u\n",
    "- initialize $(\\bar{a}, \\bar{b}, \\bar{c})=(1,1,1)$ \n",
    "- plug values of $(u,v,w)$,$(a,b,c)$ and $(\\bar{a}, \\bar{b}, \\bar{c})$ in the reverse chain we built\n",
    "\n",
    "#### b) An application in finance\n",
    "\n",
    "A practical example is given by David Dallaire (https://github.com/dallaire44/ipython/blob/master/Monte%20Carlo%20Option%20Greeks%20by%20Hand%20Made%20Adjoint%20of%20Automatic%20Differentiation.ipynb) in which he computes adjoints for a Monte-Carlo options pricer at the scale of the discretized path :\n",
    "\n",
    "$$ \\begin{aligned} S_{n+1} &= S_n + rS_n \\Delta_t +  \\sigma S_n \\sqrt{ \\Delta_t}Z_n \\; n = 0,...N-1\n",
    "\\\\ \\Rightarrow  \\bar{S}_n &= (1 + r\\Delta_t + \\sigma \\sqrt{\\Delta_t}Z_n)\\bar{S}_{n+1} \\end{aligned}$$\n",
    "Here again, for each path the adjoint has to do a forward pass: it steps through time going forward to the payoff. Some of the path parameters needed on the backward pass can be stored during this forward pass. For example, each $S_n$ and random numbers $Z_n$ of the path are stored. This works fine but requires to do the maths then code the adjoint equations for every new payoff or any change/improvement made in the engine (local volatility, Heston model, ...).\n",
    "\n",
    "\n",
    "#### c) The ideal path: an AAD engine\n",
    "With automatic differentiation, you have not to develop a dedicated code each time you have a new product on which you need to compute sensitivities. It is “enough” to embed your overall numerical libraries in a framework supporting AAD.\n",
    "\n",
    "Barak A. Pearlmutter classified four types of AAD implementation scales:\n",
    "- I : A calculus for efficiently calculating derivatives of functions specified by a set of equations\n",
    "- II : Rules applied manually which mechanically transform a computer program implementing a numeric function to also efficiently calculate some derivatives\n",
    "- III : A computer program which automatically transforms an input computer program specifying a numeric function into one that also efficiently calculates derivatives\n",
    "- IV : AD-taking operators included in language in which numeric algorithms are written, and they can be applied to procedure which use them\n",
    "\n",
    "Frameworks presented in a) and b) belong to type II. The basic idea of type IV is that we already teach at school the well feared tables of basic functions' derivatives. So why not teach them also to machines so they can efficiently figure out the right adjoints to use whithout quants to manually derive functions?"
   ]
  },
  {
   "cell_type": "markdown",
   "metadata": {
    "collapsed": true
   },
   "source": [
    "## 3 Implementing a type IV AAD framework\n",
    "\n",
    "To build a functioning type IV reverse AAD framework in python we will rely on the basic following libraries: "
   ]
  },
  {
   "cell_type": "code",
   "execution_count": 2,
   "metadata": {
    "collapsed": true
   },
   "outputs": [],
   "source": [
    "import math\n",
    "from scipy.stats import norm\n",
    "import time\n",
    "import numpy as np\n",
    "import pandas as pd\n",
    "import sys\n",
    "import matplotlib.pyplot as plt"
   ]
  },
  {
   "cell_type": "markdown",
   "metadata": {},
   "source": [
    "In this project, every equation (any pricing function such as closed-formula Black-Scholes or even Monte-Carlo approaches as in section 2.b) of this notebook) will be considered as a numerical expression calling basic operators recognized by the machine. The idea behind this framework is to overload each elementary operator (elementary functions as well, they'll be treated as operators here) as itself AND its adjoint value based on derivative(s) of the operator with respect to input(s). \n",
    "\n",
    "Each intermediate value resulting from the application of an operator to inputs will be stored as a dual number: the result and its adjoint computed based on the derivative library we'll code. For the reason detailed in 2.a and 2.b, we will need a forward pass followed by a backward computation of adjoint values. The program reasoning at the scale of an operator, the time when all the required values to compute an adjoint are available (inputs (that can be intermediate forward values) and possibly other prior adjoints) is not know in advance. The framework thus has to be coded in a recursive fashion.\n",
    "\n",
    "### a) The setup\n",
    "\n",
    "A first class Variable is implemented. It will be used by our program to recognize and store floating-point variables :"
   ]
  },
  {
   "cell_type": "code",
   "execution_count": 3,
   "metadata": {
    "collapsed": true
   },
   "outputs": [],
   "source": [
    "class Expression:\n",
    "    def __add__(self, other):\n",
    "        return Plus(self, other)\n",
    "    def __sub__(self, other):\n",
    "        return Minus(self, other)\n",
    "    def __mul__(self, other):\n",
    "        return Multiply(self, other)\n",
    "    def __truediv__(self, other):\n",
    "        return Divise(self, other)\n",
    "\n",
    "class Variable(Expression):\n",
    "    def __init__(self, value):\n",
    "        self.value = value\n",
    "        self.partial = 0\n",
    "\n",
    "    def evaluate(self):\n",
    "        pass\n",
    "\n",
    "    def derive(self, seed):\n",
    "        self.partial += seed"
   ]
  },
  {
   "cell_type": "markdown",
   "metadata": {},
   "source": [
    "Its value is stored, its partial is zero (assuming derived w.r.t itself), it does not have an evaluation method (we'll see this when adding operators to the mix) and when derived it simply passes on the adjoint value carried up to itself (since its partial is zero). It relies on the class Expression that handles basic arithmetics overloading native python operators (__add__() becomes our hand-coded Plus() operator). \n",
    "\n",
    "Talking about Plus(), let's code it:"
   ]
  },
  {
   "cell_type": "code",
   "execution_count": 4,
   "metadata": {
    "collapsed": true
   },
   "outputs": [],
   "source": [
    "class Plus(Expression):\n",
    "    def __init__(self, expressionA, expressionB):\n",
    "        self.expressionA = expressionA\n",
    "        self.expressionB = expressionB\n",
    "        self.value = None\n",
    "\n",
    "    def evaluate(self):\n",
    "        self.expressionA.evaluate()\n",
    "        self.expressionB.evaluate()\n",
    "        self.value = self.expressionA.value + self.expressionB.value\n",
    "\n",
    "    def derive(self, seed):\n",
    "        self.expressionA.derive(seed)\n",
    "        self.expressionB.derive(seed)"
   ]
  },
  {
   "cell_type": "markdown",
   "metadata": {},
   "source": [
    "It's a class having to inputs A and B. Values are stored when first-instanciated. Evaluate method simply stores the value of the corrisponding operator +. Derive function just passes-on the seed since derivative of A+B (wrt A or B) gives 1. To make this seed-passing clearer, let's code the operator Multiply that does not have a netral impact on seed:"
   ]
  },
  {
   "cell_type": "code",
   "execution_count": 5,
   "metadata": {
    "collapsed": true
   },
   "outputs": [],
   "source": [
    "class Multiply(Expression):\n",
    "    def __init__(self, expressionA, expressionB):\n",
    "        self.expressionA = expressionA\n",
    "        self.expressionB = expressionB\n",
    "        self.value = None\n",
    "\n",
    "    def evaluate(self):\n",
    "        self.expressionA.evaluate()\n",
    "        self.expressionB.evaluate()\n",
    "        self.value = self.expressionA.value * self.expressionB.value\n",
    "\n",
    "    def derive(self, seed):\n",
    "        self.expressionA.derive(self.expressionB.value * seed)\n",
    "        self.expressionB.derive(self.expressionA.value * seed)\n"
   ]
  },
  {
   "cell_type": "markdown",
   "metadata": {},
   "source": [
    "Here, evaluate() changes as it stores the value of the \\* operator. Also, derive() method changes. Consider the function $f(a,b)=36*a*b$. As seen in part 2 of this notebook, once the forward pass is dealt with, the seed is initiated to 1 to compute adjoints backwards. \n",
    "\n",
    "The code will process this function in two steps: first focusing on the operation $36*right$ (for which $\\frac{\\partial (36*right)}{\\partial right} =36$, then on $a*b$ according to the seed-passing rule we set for \\*. \n",
    "\n",
    "Here, $\\frac{\\partial (a*b)}{\\partial a} = b$ and $\\frac{\\partial (a*b)}{\\partial b} =a$ so the legacy adjoint (seed) being 36, the derivative $\\frac{\\partial f}{\\partial a} = b*seed=b*36$.\n",
    "\n",
    "Let's now add the classes for every operator we will need (including exponential, logarithm or even normal cumulative density function operators)."
   ]
  },
  {
   "cell_type": "code",
   "execution_count": 6,
   "metadata": {
    "collapsed": true
   },
   "outputs": [],
   "source": [
    "class Sinus(Expression):\n",
    "    def __init__(self, expressionA):\n",
    "        self.expressionA = expressionA\n",
    "        self.value = None\n",
    "\n",
    "    def evaluate(self):\n",
    "        self.expressionA.evaluate()\n",
    "        self.value = math.sin(self.expressionA.value)\n",
    "\n",
    "    def derive(self, seed):\n",
    "        self.expressionA.derive(math.cos(self.expressionA.value)*seed)\n",
    "\n",
    "class Plus(Expression):\n",
    "    def __init__(self, expressionA, expressionB):\n",
    "        self.expressionA = expressionA\n",
    "        self.expressionB = expressionB\n",
    "        self.value = None\n",
    "\n",
    "    def evaluate(self):\n",
    "        self.expressionA.evaluate()\n",
    "        self.expressionB.evaluate()\n",
    "        self.value = self.expressionA.value + self.expressionB.value\n",
    "\n",
    "    def derive(self, seed):\n",
    "        self.expressionA.derive(seed)\n",
    "        self.expressionB.derive(seed)\n",
    "        \n",
    "class Minus(Expression):\n",
    "    def __init__(self, expressionA, expressionB):\n",
    "        self.expressionA = expressionA\n",
    "        self.expressionB = expressionB\n",
    "        self.value = None\n",
    "\n",
    "    def evaluate(self):\n",
    "        self.expressionA.evaluate()\n",
    "        self.expressionB.evaluate()\n",
    "        self.value = self.expressionA.value - self.expressionB.value\n",
    "\n",
    "    def derive(self, seed):\n",
    "        self.expressionA.derive(seed)\n",
    "        self.expressionB.derive(-seed)\n",
    "\n",
    "class Multiply(Expression):\n",
    "    def __init__(self, expressionA, expressionB):\n",
    "        self.expressionA = expressionA\n",
    "        self.expressionB = expressionB\n",
    "        self.value = None\n",
    "\n",
    "    def evaluate(self):\n",
    "        self.expressionA.evaluate()\n",
    "        self.expressionB.evaluate()\n",
    "        self.value = self.expressionA.value * self.expressionB.value\n",
    "\n",
    "    def derive(self, seed):\n",
    "        self.expressionA.derive(self.expressionB.value * seed)\n",
    "        self.expressionB.derive(self.expressionA.value * seed)\n",
    "\n",
    "class Divise(Expression):\n",
    "    def __init__(self, expressionA, expressionB):\n",
    "        self.expressionA = expressionA\n",
    "        self.expressionB = expressionB\n",
    "        self.value = None\n",
    "\n",
    "    def evaluate(self):\n",
    "        self.expressionA.evaluate()\n",
    "        self.expressionB.evaluate()\n",
    "        self.value = self.expressionA.value / self.expressionB.value\n",
    "\n",
    "    def derive(self, seed):\n",
    "        self.expressionA.derive(seed/self.expressionB.value)\n",
    "        self.expressionB.derive(-self.expressionA.value * seed/self.expressionB.value**2)\n",
    "\n",
    "class Exponent(Expression):\n",
    "    def __init__(self, expressionA):\n",
    "        self.expressionA = expressionA\n",
    "        self.value = None\n",
    "\n",
    "    def evaluate(self):\n",
    "        self.expressionA.evaluate()\n",
    "        self.value = math.exp(self.expressionA.value)\n",
    "\n",
    "    def derive(self, seed):\n",
    "        self.expressionA.derive(math.exp(self.expressionA.value)*seed)\n",
    "        \n",
    "class Logarithm(Expression):\n",
    "    def __init__(self, expressionA):\n",
    "        self.expressionA = expressionA\n",
    "        self.value = None\n",
    "\n",
    "    def evaluate(self):\n",
    "        self.expressionA.evaluate()\n",
    "        self.value = math.log(self.expressionA.value)\n",
    "\n",
    "    def derive(self, seed):\n",
    "        self.expressionA.derive(seed/self.expressionA.value)\n",
    "        \n",
    "        \n",
    "class NormCDF(Expression):\n",
    "    def __init__(self, expressionA):\n",
    "        self.expressionA = expressionA\n",
    "        self.value = None\n",
    "\n",
    "    def evaluate(self):\n",
    "        self.expressionA.evaluate()\n",
    "        self.value = norm.cdf(self.expressionA.value)\n",
    "\n",
    "    def derive(self, seed):\n",
    "        self.expressionA.derive(math.exp(-0.5*self.expressionA.value**2)*seed/math.sqrt(2*math.pi))\n",
    "\n",
    "class Square(Expression):\n",
    "    def __init__(self, expressionA):\n",
    "        self.expressionA = expressionA\n",
    "        self.value = None\n",
    "\n",
    "    def evaluate(self):\n",
    "        self.expressionA.evaluate()\n",
    "        self.value = self.expressionA.value**2\n",
    "\n",
    "    def derive(self, seed):\n",
    "        self.expressionA.derive(2*seed*self.expressionA.value)\n",
    "         \n",
    "class Root(Expression):\n",
    "    def __init__(self, expressionA):\n",
    "        self.expressionA = expressionA\n",
    "        self.value = None\n",
    "\n",
    "    def evaluate(self):\n",
    "        self.expressionA.evaluate()\n",
    "        self.value = self.expressionA.value**0.5\n",
    "\n",
    "    def derive(self, seed):\n",
    "        self.expressionA.derive(seed/(2*self.expressionA.value))\n"
   ]
  },
  {
   "cell_type": "markdown",
   "metadata": {},
   "source": [
    "### b) Using the library for Black-Scholes prices \n",
    "\n",
    "We can now price and get greeks for those payoffs by coding an expression representing Black-Scholes equation using our library of operators:"
   ]
  },
  {
   "cell_type": "code",
   "execution_count": 11,
   "metadata": {},
   "outputs": [
    {
     "name": "stdout",
     "output_type": "stream",
     "text": [
      "                  0           1         2         3        4            5  \\\n",
      "0              Type  Call price   ∂C/∂S =   ∂C/∂K =  ∂C/∂T =  ∂C/∂sigma =   \n",
      "1  Reverse mode AAD     19.1551  0.689481 -0.546195 -3.07064      52.6985   \n",
      "\n",
      "         6  \n",
      "0  ∂C/∂r =  \n",
      "1  103.638  \n"
     ]
    }
   ],
   "source": [
    "#Initialise required parameters as variables:\n",
    "S =Variable(107)\n",
    "K=Variable(100)\n",
    "T=Variable(2)\n",
    "sigma=Variable(0.23)\n",
    "r=Variable(0.02)\n",
    "\n",
    "#insert into Black-Scholes components using our functions:\n",
    "d1= (Logarithm(S/K)+(r+Variable(0.5)*Square(sigma)))/(sigma*Root(T))\n",
    "d2=d1-sigma*Root(T)\n",
    "Call= NormCDF(d1)*S-NormCDF(d2)*K*Exponent(Variable(0)-r*T)\n",
    "\n",
    "#evaluate expression, then derive backwards with seed = 1:\n",
    "Call.evaluate()\n",
    "Call.derive(1)\n",
    "\n",
    "#print partials (remembering that T is time to maturity hence - sign)\n",
    "AAD_values = [\"Reverse mode AAD\", Call.value, S.partial, K.partial, -T.partial, sigma.partial, r.partial]\n",
    "recap = pd.DataFrame([[\"Type\",\"Call price\", \"∂C/∂S =\", \"∂C/∂K =\",\"∂C/∂T =\",\"∂C/∂sigma =\",\"∂C/∂r =\"],\n",
    "     AAD_values])\n",
    "                      \n",
    "print(recap)                \n"
   ]
  },
  {
   "cell_type": "markdown",
   "metadata": {},
   "source": [
    "For the sake of simplicity, let's code wrappers to embed BS formulas for calls, digitals and up-and-in options into expressions digestable by our framework:"
   ]
  },
  {
   "cell_type": "code",
   "execution_count": 12,
   "metadata": {
    "collapsed": true
   },
   "outputs": [],
   "source": [
    "def call_expression(S,K,T,sigma,r):\n",
    "    d1= (Logarithm(S/K)+(r+Variable(0.5)*Square(sigma))*T)/(sigma*Root(T))\n",
    "    d2=d1-sigma*Root(T)\n",
    "    return NormCDF(d1)*S-NormCDF(d2)*K*Exponent(Variable(0)-r*T)\n",
    "\n",
    "def digital_call(S,K,T,sigma,r):\n",
    "    d2= (Logarithm(S/K)+(r-Variable(0.5)*Square(sigma))*T)/(sigma*Root(T))\n",
    "    return NormCDF(d2)*Exponent(Variable(0)-r*T)\n",
    "\n",
    "def call_upin_barrier_expression(S,K,T,sigma,r,B):# = call(S,B) + (B-K)*Digit(S,B)\n",
    "    d1= (Logarithm(S/B)+(r+Variable(0.5)*Square(sigma))*T)/(sigma*Root(T))#B in d1 because Call(S,B)\n",
    "    d2=d1-sigma*Root(T)\n",
    "    return NormCDF(d1)*S-NormCDF(d2)*K*Exponent(Variable(0)-r*T)#K here from the simplification of above equation in comment\n",
    "  "
   ]
  },
  {
   "cell_type": "markdown",
   "metadata": {},
   "source": [
    "The previous section then becomes:"
   ]
  },
  {
   "cell_type": "code",
   "execution_count": 15,
   "metadata": {},
   "outputs": [
    {
     "name": "stdout",
     "output_type": "stream",
     "text": [
      "                  0           1        2        3        4            5  \\\n",
      "0              Type  Call price  ∂C/∂S =  ∂C/∂K =  ∂C/∂T =  ∂C/∂sigma =   \n",
      "1  Reverse mode AAD     19.2838  2.75712 -2.18005 -12.8572      213.031   \n",
      "\n",
      "         6  \n",
      "0  ∂C/∂r =  \n",
      "1  430.409  \n"
     ]
    }
   ],
   "source": [
    "#with previous values\n",
    "Call=call_expression(S,K,T,sigma,r)\n",
    "\n",
    "#evaluate expression, then derive backwards with seed = 1:\n",
    "Call.evaluate()\n",
    "Call.derive(1)\n",
    "\n",
    "#print partials (remembering that T is time to maturity hence - sign)\n",
    "AAD_values = [\"Reverse mode AAD\", Call.value, S.partial, K.partial, -T.partial, sigma.partial, r.partial]\n",
    "recap = pd.DataFrame([[\"Type\",\"Call price\", \"∂C/∂S =\", \"∂C/∂K =\",\"∂C/∂T =\",\"∂C/∂sigma =\",\"∂C/∂r =\"],\n",
    "     AAD_values])\n",
    "print(recap)"
   ]
  },
  {
   "cell_type": "markdown",
   "metadata": {},
   "source": [
    "### c) Comparing BS AAD with finite difference BS\n",
    "\n",
    "Now to illustrate the time gained by AAD framework when compared to classical BS implementation with central finite difference sensitivities, let's compute 1k times each and compare runtimes:"
   ]
  },
  {
   "cell_type": "code",
   "execution_count": 17,
   "metadata": {},
   "outputs": [
    {
     "name": "stdout",
     "output_type": "stream",
     "text": [
      "Elapsed autodiff:  0.5470016002655029\n",
      "Elapsed central diff scheme:  3.5614748001098633\n",
      "AAD only takes  15.4 % of central diff scheme\n",
      "                      0           1         2         3        4            5  \\\n",
      "0                  Type  Call price   ∂C/∂S =   ∂C/∂K =  ∂C/∂T =  ∂C/∂sigma =   \n",
      "1      Reverse mode AAD     19.2838  0.689212 -0.544619  -3.2622       53.444   \n",
      "2  Central diff. scheme     19.1551  0.689481 -0.546195 -3.93646      52.6985   \n",
      "\n",
      "         6  \n",
      "0  ∂C/∂r =  \n",
      "1  108.924  \n",
      "2  103.638  \n"
     ]
    }
   ],
   "source": [
    "   \n",
    "def MAIN_compare_AAD_CDS():\n",
    "    ###################################\n",
    "    # 1 BS WITH REVERSE AUTODIFF\n",
    "    \n",
    "    start_time = time.time()\n",
    "    \n",
    "    for i in range(1000):\n",
    "        S =Variable(107)\n",
    "        K=Variable(100)\n",
    "        T=Variable(2)\n",
    "        sigma=Variable(0.23)\n",
    "        r=Variable(0.02)\n",
    "        B=Variable(110)\n",
    "        \n",
    "        Call=call_expression(S,K,T,sigma,r)\n",
    "        Call.evaluate()\n",
    "        Call.derive(1)\n",
    "    \n",
    "    t_AAD=time.time() - start_time\n",
    "    print(\"Elapsed autodiff: \", t_AAD)\n",
    "    \n",
    "    AAD_values = [\"Reverse mode AAD\", Call.value, S.partial, K.partial, -T.partial, sigma.partial, r.partial]\n",
    "    \n",
    "    ##################################\"\n",
    "    # 2 BS WITH CENTRAL DIFF SCHEME\n",
    "    \n",
    "    \n",
    "    def BSCall(S,K,T,sigma,r):\n",
    "        d1=(math.log(S/K)+(r+0.5*sigma**2))/(sigma*math.sqrt(T))\n",
    "        d2=d1-sigma*math.sqrt(T)\n",
    "        return norm.cdf(d1)*S-norm.cdf(d2)*K*math.exp(-r*T)\n",
    "    \n",
    "    start_time = time.time()\n",
    "    \n",
    "    for i in range(1000):\n",
    "        S=107\n",
    "        K=100\n",
    "        T=2\n",
    "        sigma=0.23\n",
    "        r=0.02\n",
    "        \n",
    "        h=0.00001\n",
    "        \n",
    "        Call=BSCall(S,K,T,sigma,r)\n",
    "        delta=(BSCall(S+h,K,T,sigma,r)-BSCall(S-h,K,T,sigma,r))/(2*h)\n",
    "        kappa=(BSCall(S,K+h,T,sigma,r)-BSCall(S,K-h,T,sigma,r))/(2*h)\n",
    "        theta=-(BSCall(S,K,T+h,sigma,r)-BSCall(S,K,T-h,sigma,r))/(2*h)\n",
    "        vega=(BSCall(S,K,T,sigma+h,r)-BSCall(S,K,T,sigma-h,r))/(2*h)\n",
    "        rho=(BSCall(S,K,T,sigma,r+h)-BSCall(S,K,T,sigma,r-h))/(2*h)\n",
    "    \n",
    "    t_CDS=time.time() - start_time\n",
    "    \n",
    "    print(\"Elapsed central diff scheme: \", (t_CDS))\n",
    "    \n",
    "    print(\"AAD only takes \",round(100.0*t_AAD/t_CDS,1),\"% of central diff scheme\")\n",
    "    \n",
    "    BS_values = [\"Central diff. scheme\", Call, delta,kappa, theta, vega,rho]\n",
    "    \n",
    "    recap= pd.DataFrame([[\"Type\",\"Call price\", \"∂C/∂S =\", \"∂C/∂K =\",\"∂C/∂T =\",\"∂C/∂sigma =\",\"∂C/∂r =\"],\n",
    "     AAD_values,\n",
    "     BS_values])\n",
    "    \n",
    "    print(recap)\n",
    "\n",
    "MAIN_compare_AAD_CDS()"
   ]
  },
  {
   "cell_type": "markdown",
   "metadata": {},
   "source": [
    "The log reads :\n",
    "\n",
    "Elapsed autodiff:  0.5470016002655029\n",
    "Elapsed central diff scheme:  3.5614748001098633\n",
    "AAD only takes  15.4 % of central diff scheme\n",
    "\n",
    "### d) Comparing BS AAD with closed-form greeks\n",
    "\n",
    "Now we could also compare our framework to a supposedly faster closed-formula implemented BS greeks:"
   ]
  },
  {
   "cell_type": "code",
   "execution_count": 18,
   "metadata": {},
   "outputs": [
    {
     "name": "stdout",
     "output_type": "stream",
     "text": [
      "Elapsed autodiff:  0.4759969711303711\n",
      "Elapsed closed-form greeks:  1.2959976196289062\n",
      "AAD only takes  36.7 % of central diff scheme\n",
      "                  0           1         2         3        4            5  \\\n",
      "0              Type  Call price   ∂C/∂S =   ∂C/∂K =  ∂C/∂T =  ∂C/∂sigma =   \n",
      "1  Reverse mode AAD     19.1551  0.689481 -0.546195 -3.07064      52.6985   \n",
      "2       Closed-form     19.1551  0.637136 -0.490185  4.24439      56.7655   \n",
      "\n",
      "         6  \n",
      "0  ∂C/∂r =  \n",
      "1  103.638  \n",
      "2  98.0369  \n"
     ]
    }
   ],
   "source": [
    "def MAIN_compare_AAD_CFG():\n",
    "    ###################################\n",
    "    # 1 BS WITH REVERSE AUTODIFF\n",
    "    \n",
    "    start_time = time.time()\n",
    "    \n",
    "    for i in range(1000):\n",
    "        S =Variable(107)\n",
    "        K=Variable(100)\n",
    "        T=Variable(2)\n",
    "        sigma=Variable(0.23)\n",
    "        r=Variable(0.02)\n",
    "        \n",
    "        \n",
    "        d1= (Logarithm(S/K)+(r+Variable(0.5)*Square(sigma)))/(sigma*Root(T))\n",
    "        d2=d1-sigma*Root(T)\n",
    "        Call= NormCDF(d1)*S-NormCDF(d2)*K*Exponent(Variable(0)-r*T)\n",
    "        Call.evaluate()\n",
    "        Call.derive(1)\n",
    "    \n",
    "    t_AAD=time.time() - start_time\n",
    "    print(\"Elapsed autodiff: \", t_AAD)\n",
    "    \n",
    "    AAD_values = [\"Reverse mode AAD\", Call.value, S.partial, K.partial, -T.partial, sigma.partial, r.partial]\n",
    "    del S,K,T,sigma,r\n",
    "    ##################################\"\n",
    "    # 2 BS WITH CLOSED FORM GREEKS\n",
    "    \n",
    "    \n",
    "    def BSCall(S,K,T,sigma,r):\n",
    "        d1=(math.log(S/K)+(r+0.5*sigma**2))/(sigma*math.sqrt(T))\n",
    "        d2=d1-sigma*math.sqrt(T)\n",
    "        return norm.cdf(d1)*S-norm.cdf(d2)*K*math.exp(-r*T)\n",
    "    \n",
    "    def BSDelta(S,K,T,sigma,r):\n",
    "        d1=(math.log(S/K)+(r+0.5*sigma**2))/(sigma*math.sqrt(T))\n",
    "        return norm.cdf(d1)\n",
    "    \n",
    "    def BSKappa(S,K,T,sigma,r):\n",
    "        d1=(math.log(S/K)+(r+0.5*sigma**2))/(sigma*math.sqrt(T))\n",
    "        d2=d1-sigma*math.sqrt(T)\n",
    "        return -norm.cdf(d2)*math.exp(-r*T)\n",
    "    \n",
    "    def BSVega(S,K,T,sigma,r):\n",
    "        d1=(math.log(S/K)+(r+0.5*sigma**2))/(sigma*math.sqrt(T))\n",
    "        return norm.pdf(d1)*S*math.sqrt(T)\n",
    "    \n",
    "    def BSTheta(S,K,T,sigma,r):\n",
    "        d1=(math.log(S/K)+(r+0.5*sigma**2))/(sigma*math.sqrt(T))\n",
    "        d2=d1-sigma*math.sqrt(T)\n",
    "        return norm.pdf(d1)*S*sigma/(2*math.sqrt(T))+r*K*math.exp(-r*T)*norm.cdf(d2)\n",
    "    \n",
    "    def BSRho(S,K,T,sigma,r):\n",
    "        d1=(math.log(S/K)+(r+0.5*sigma**2))/(sigma*math.sqrt(T))\n",
    "        d2=d1-sigma*math.sqrt(T)\n",
    "        return norm.cdf(d2)*math.exp(-r*T)*K*T\n",
    "    \n",
    "    start_time = time.time()\n",
    "    \n",
    "    for i in range(1000):\n",
    "        S=107\n",
    "        K=100\n",
    "        T=2\n",
    "        sigma=0.23\n",
    "        r=0.02\n",
    "        \n",
    "        Call=BSCall(S,K,T,sigma,r)\n",
    "        delta=BSDelta(S,K,T,sigma,r)\n",
    "        kappa=BSKappa(S,K,T,sigma,r)\n",
    "        theta=BSTheta(S,K,T,sigma,r)\n",
    "        vega=BSVega(S,K,T,sigma,r)\n",
    "        rho=BSRho(S,K,T,sigma,r)\n",
    "    \n",
    "    t_CDS=time.time() - start_time\n",
    "    \n",
    "    print(\"Elapsed closed-form greeks: \", (t_CDS))\n",
    "    \n",
    "    print(\"AAD only takes \",round(100.0*t_AAD/t_CDS,1),\"% of central diff scheme\")\n",
    "    \n",
    "    BS_values = [\"Closed-form\", Call, delta,kappa, theta, vega,rho]\n",
    "    \n",
    "    recap= pd.DataFrame([[\"Type\",\"Call price\", \"∂C/∂S =\", \"∂C/∂K =\",\"∂C/∂T =\",\"∂C/∂sigma =\",\"∂C/∂r =\"],\n",
    "     AAD_values,\n",
    "     BS_values])\n",
    "    \n",
    "    print(recap)\n",
    "\n",
    "MAIN_compare_AAD_CFG()"
   ]
  },
  {
   "cell_type": "markdown",
   "metadata": {},
   "source": [
    "The log reads :\n",
    "\n",
    "Elapsed autodiff:  0.4759969711303711\n",
    "Elapsed closed-form greeks:  1.2959976196289062\n",
    "AAD only takes  36.7 % of central diff scheme\n",
    "\n",
    "AAD is still faster, and does not require to implement formulas for greeks. \n",
    "\n",
    "### e) Implementing an MC ADD framework\n",
    "\n",
    "Now for fun, let's try to build a MC engine to evaluate via AAD any european payoff, provided its adjoint terminal payoff is coded into our library.\n",
    "\n",
    "Starting with call and DIP options:"
   ]
  },
  {
   "cell_type": "code",
   "execution_count": 19,
   "metadata": {
    "collapsed": true
   },
   "outputs": [],
   "source": [
    "\n",
    "class EuroCall(Expression):\n",
    "    def __init__(self, expressionA, expressionB):\n",
    "        self.expressionA = expressionA\n",
    "        self.expressionB = expressionB\n",
    "        self.value = None\n",
    "\n",
    "    def evaluate(self):\n",
    "        self.expressionA.evaluate()#S_T\n",
    "        self.expressionB.evaluate()#K\n",
    "        self.value = max(self.expressionA.value-self.expressionB.value,0)#max(S_T-K,0)\n",
    "\n",
    "\n",
    "    def derive(self, seed):\n",
    "        deriveA_value=0.0\n",
    "        deriveB_value=-1.0\n",
    "        if self.expressionA.value>self.expressionB.value:\n",
    "            deriveA_value=1.0\n",
    "            deriveB_value=0.0\n",
    "        self.expressionA.derive(seed*deriveA_value)\n",
    "        self.expressionB.derive(seed*deriveB_value)\n",
    "        \n",
    "class EuroDIP(Expression):\n",
    "    def __init__(self, expressionA, expressionB,expressionC):\n",
    "        self.expressionA = expressionA\n",
    "        self.expressionB = expressionB\n",
    "        self.expressionC = expressionC\n",
    "        self.value = None\n",
    "\n",
    "    def evaluate(self):\n",
    "        self.expressionA.evaluate()#S_T\n",
    "        self.expressionB.evaluate()#K\n",
    "        self.expressionC.evaluate()#Barrier\n",
    "        ret=0\n",
    "        if self.expressionA.value<self.expressionC.value:\n",
    "            ret=max(self.expressionB.value-self.expressionA.value,0)\n",
    "        self.value =ret \n",
    "\n",
    "    def derive(self, seed):\n",
    "        deriveA_value=0.0\n",
    "        deriveB_value=0.0\n",
    "        deriveC_value= 0.0\n",
    "        if self.expressionA.value<self.expressionC.value:\n",
    "            deriveA_value=-1.0\n",
    "            deriveB_value=1.0\n",
    "        self.expressionA.derive(seed*deriveA_value)\n",
    "        self.expressionB.derive(seed*deriveB_value)\n",
    "        self.expressionC.derive(seed*deriveC_value)\n"
   ]
  },
  {
   "cell_type": "markdown",
   "metadata": {},
   "source": [
    "The next thing we'll need is a white-noise generating function :"
   ]
  },
  {
   "cell_type": "code",
   "execution_count": 20,
   "metadata": {
    "collapsed": true
   },
   "outputs": [],
   "source": [
    "#1 : Basic MC engine\n",
    "\n",
    "def paths(num, periods):\n",
    "    temp= np.random.normal(0, 1, size=(num,periods))\n",
    "    ret=[]\n",
    "    \n",
    "    for i in range(np.size(temp,0)):\n",
    "        row=[]\n",
    "        for j in range(np.size(temp,1)):\n",
    "            row.append(Variable(temp[i,j]))\n",
    "        ret.append(row)\n",
    "    return ret"
   ]
  },
  {
   "cell_type": "markdown",
   "metadata": {},
   "source": [
    "Now, for this one I got creative. Ideally, an MC framework is basically a loop computing terminal value of a given payoff knowing a given path, then those final prices are meaned and discounted. The fact is that I have yet to figure out how to add a for loop and compute adjoints to my library (please keep in mind that I develop all this at the sacrifice of coffee breaks at work).\n",
    "\n",
    "So the \"simplest\" idea that sprung to my mind was to create a function that concatenates within a string the expression to be evaluated:\n",
    "\n",
    "Say I want a MC price based on 2 simulations, i'll have this function create the string\n",
    "\n",
    "\"(call_expression(S[0],K,T,sigma,r) + call_expression(S[1],K,T,sigma,r))/2\"\n",
    "\n",
    "adding each call_expressing into a loop, then dicounting the evaluated string.\n",
    "\n",
    "Fisrt let's build a function storing into a string the code to evaluate n times the output of our paths function as a geometric brownian motion:\n",
    "\n",
    "**Warning, executing string-based code can be dangerous and can permanently corrupt your computer, please do not execute the following if you are not familiar with the underlying concepts**"
   ]
  },
  {
   "cell_type": "code",
   "execution_count": 21,
   "metadata": {
    "collapsed": true
   },
   "outputs": [],
   "source": [
    "def GBM_terminal_value_string(mypaths):\n",
    "#==============================================================================\n",
    "#     WARNING : mypaths must be the name of the variable holding paths generated by paths() function\n",
    "#==============================================================================\n",
    "    ret=[]\n",
    "    for i in range(len(mypaths)):\n",
    "        tempstr =\"\"\n",
    "        for j in range(len(mypaths[0])):\n",
    "            tempstr = f'S*Exponent((r-Variable(0.5)*Square(sigma))*T+sigma*Root(T)*mypaths[{i}][{j}])'\n",
    "        ret.append(tempstr)\n",
    "    return ret"
   ]
  },
  {
   "cell_type": "markdown",
   "metadata": {},
   "source": [
    "Then, add the function to evaluate payoff wrt GBM terminal value:"
   ]
  },
  {
   "cell_type": "code",
   "execution_count": 23,
   "metadata": {
    "collapsed": true
   },
   "outputs": [],
   "source": [
    "def evaluate_mean_of_eurocall_for_paths(GBM_string_array):\n",
    "    ret=\"\"#will be the sum of all terminal GBM evaluated by EuroCall operator\n",
    "    for i in range(len(GBM_string_array)):\n",
    "        ret+=f'EuroCall(eval(GBM_string_array[{i}]),K)+'\n",
    "    ret=ret[:-1]#trim last + added in the loop\n",
    "    return \"Exponent(Variable(0)-r*T)*(\"+ret+\")/n_simul\"#Var(0) because - operator is binary (won't work without any variable before)\n",
    "\n",
    "def evaluate_mean_of_custom_euro_payoff_for_paths(GBM_string_array,payoff_name):\n",
    "    ret=\"\"#will be the sum of all terminal GBM evaluated by EuroCall operator\n",
    "    for i in range(len(GBM_string_array)):\n",
    "        ret+= payoff_name+ f'(eval(GBM_string_array[{i}]),K,B)+'\n",
    "    ret=ret[:-1]#trim last + added in the loop\n",
    "    return \"Exponent(Variable(0)-r*T)*(\"+ret+\")/n_simul\"#Var(0) because - operator is binary (won't work without any variable before)\n",
    "    "
   ]
  },
  {
   "cell_type": "markdown",
   "metadata": {},
   "source": [
    "We can now evaluate the resulting string using python's **eval** function (at your own risk) into our framework: "
   ]
  },
  {
   "cell_type": "code",
   "execution_count": 24,
   "metadata": {},
   "outputs": [
    {
     "name": "stdout",
     "output_type": "stream",
     "text": [
      "Elapsed autodiff:  0.2480010986328125\n",
      "                     0           1         2         3        4            5  \\\n",
      "0                 Type  Call price   ∂C/∂S =   ∂C/∂K =  ∂C/∂T =  ∂C/∂sigma =   \n",
      "1  Reverse mode AAD MC     20.5254  0.716669 -0.399208 -2.90956      58.5476   \n",
      "\n",
      "         6  \n",
      "0  ∂C/∂r =  \n",
      "1  112.316  \n"
     ]
    }
   ],
   "source": [
    "def MAIN_MC_EuroCall_study():\n",
    "    \n",
    "    sys.setrecursionlimit(99999)\n",
    "    start_time = time.time()\n",
    "    S =Variable(107)\n",
    "    K=Variable(100)\n",
    "    T=Variable(2)\n",
    "    sigma=Variable(0.23)\n",
    "    r=Variable(0.02)\n",
    "    \n",
    "    n_simul=Variable(2000)\n",
    "    n_simul_int=n_simul.value\n",
    "    \n",
    "    mypaths = paths(n_simul_int,1)\n",
    "    GBM_string_array=GBM_terminal_value_string(mypaths)\n",
    "    MC_string=evaluate_mean_of_eurocall_for_paths(GBM_string_array)\n",
    "\n",
    "    Call=eval(MC_string)#bring the string as a code line\n",
    "   \n",
    "    Call.evaluate()\n",
    "    Call.derive(1)\n",
    "\n",
    "    t_AAD=time.time() - start_time\n",
    "    print(\"Elapsed autodiff: \", t_AAD)\n",
    "    \n",
    "    AAD_values = [\"Reverse mode AAD MC\", Call.value, S.partial, K.partial, -T.partial, sigma.partial, r.partial]\n",
    "    recap= pd.DataFrame([[\"Type\",\"Call price\", \"∂C/∂S =\", \"∂C/∂K =\",\"∂C/∂T =\",\"∂C/∂sigma =\",\"∂C/∂r =\"],\n",
    "     AAD_values])\n",
    "    \n",
    "    print(recap)\n",
    "MAIN_MC_EuroCall_study()"
   ]
  },
  {
   "cell_type": "markdown",
   "metadata": {},
   "source": [
    "Please note that python isn't designed for recursion (sigh). We therefore have to push the recursion limit further away, initially set to a bit less than 1000. Indeed, in this example we only handle 2k paths, and can't seem to go much further (at least with my poor equipment). It's not a matter of power or anything, as we can see it only takes .2s without any struggle. The fact is that since all our framework is recursive, monte carlo engines drastically increases the recursion stack and that's to much for an armless snake.\n",
    "\n",
    "We can also make our code a bit more dynamic by having the name of the payoff function as an input to switch easily:"
   ]
  },
  {
   "cell_type": "code",
   "execution_count": 26,
   "metadata": {},
   "outputs": [
    {
     "name": "stdout",
     "output_type": "stream",
     "text": [
      "Elapsed autodiff:  0.28400135040283203\n",
      "                     0           1         2         3        4            5  \\\n",
      "0                 Type  Call price   ∂C/∂S =   ∂C/∂K =  ∂C/∂T =  ∂C/∂sigma =   \n",
      "1  Reverse mode AAD MC     7.89639 -0.201419  0.294482 -1.32721       43.022   \n",
      "\n",
      "         6  \n",
      "0  ∂C/∂r =  \n",
      "1 -58.8964  \n"
     ]
    }
   ],
   "source": [
    "def MAIN_MC_EuroPayoff_study():\n",
    "    \n",
    "    sys.setrecursionlimit(99999)\n",
    "    start_time = time.time()\n",
    "    S =Variable(107)\n",
    "    K=Variable(100)\n",
    "    T=Variable(2)\n",
    "    sigma=Variable(0.23)\n",
    "    r=Variable(0.02)\n",
    "    \n",
    "    B=Variable(90)\n",
    "    \n",
    "    payoff='EuroDIP'\n",
    "    \n",
    "    n_simul=Variable(2000)\n",
    "    n_simul_int=n_simul.value\n",
    "    \n",
    "    mypaths = paths(n_simul_int,1)\n",
    "    GBM_string_array=GBM_terminal_value_string(mypaths)\n",
    "    MC_string=evaluate_mean_of_custom_euro_payoff_for_paths(GBM_string_array,payoff)\n",
    "\n",
    "    Call=eval(MC_string)#bring the string as a code line\n",
    "   \n",
    "    Call.evaluate()\n",
    "    Call.derive(1)\n",
    "\n",
    "    t_AAD=time.time() - start_time\n",
    "    print(\"Elapsed autodiff: \", t_AAD)\n",
    "    \n",
    "    AAD_values = [\"Reverse mode AAD MC\", Call.value, S.partial, K.partial, -T.partial, sigma.partial, r.partial]\n",
    "    recap= pd.DataFrame([[\"Type\",\"Call price\", \"∂C/∂S =\", \"∂C/∂K =\",\"∂C/∂T =\",\"∂C/∂sigma =\",\"∂C/∂r =\"],\n",
    "     AAD_values])\n",
    "    \n",
    "    print(recap) \n",
    "MAIN_MC_EuroPayoff_study()"
   ]
  },
  {
   "cell_type": "markdown",
   "metadata": {},
   "source": [
    "### f) Getting dressed up\n",
    "\n",
    "Here I just show various ploting options for AAD greeks:\n",
    "\n",
    "#### European UIP barrier option"
   ]
  },
  {
   "cell_type": "code",
   "execution_count": 25,
   "metadata": {},
   "outputs": [
    {
     "data": {
      "text/plain": [
       "<matplotlib.figure.Figure at 0x27d161929e8>"
      ]
     },
     "metadata": {},
     "output_type": "display_data"
    },
    {
     "data": {
      "image/png": "[encoded data removed]",
      "text/plain": [
       "<matplotlib.figure.Figure at 0x27d164fa780>"
      ]
     },
     "metadata": {},
     "output_type": "display_data"
    }
   ],
   "source": [
    "\n",
    "def MAIN_print_AAD_price_greeks():\n",
    "    ###################################\n",
    "    # 1 BS WITH REVERSE AUTODIFF\n",
    "    res=[[\"S\",\"Call price\", \"∂C/∂S =\",\"∂C/∂T =\",\"∂C/∂sigma =\",\"∂C/∂r =\"]]\n",
    "    scale=10\n",
    "    max_S=200\n",
    "    for si in range(1,max_S*scale):\n",
    "        S =Variable(si/scale)\n",
    "        K=Variable(100)\n",
    "        T=Variable(0.2)\n",
    "        sigma=Variable(0.23)\n",
    "        r=Variable(0.02)\n",
    "        B=Variable(150)\n",
    "        \n",
    "        #Call=call_expression(S,K,T,sigma,r)\n",
    "        Call=call_upin_barrier_expression(S,K,T,sigma,r,B)\n",
    "        #Call=digital_call(S,K,T,sigma,r)\n",
    "        Call.evaluate()\n",
    "        Call.derive(1)\n",
    "\n",
    "        res.append([si/scale, Call.value, S.partial, -T.partial, sigma.partial, r.partial])\n",
    "    res=np.array(res)\n",
    "\n",
    "    res=pd.DataFrame(res[1:,1:],index=res[1:,0],columns=res[0,1:])\n",
    "    res=res.astype('float64')\n",
    "    \n",
    "    plt.figure(figsize=(16, 8), dpi=150)\n",
    "    res.plot(subplots=False)\n",
    "    plt.show()\n",
    "MAIN_print_AAD_price_greeks()"
   ]
  },
  {
   "cell_type": "markdown",
   "metadata": {},
   "source": [
    "Thanks to the following researchers that did absolutely fantastic work on the subject:  \n",
    "David Dallaire, Sébastien Geeraert, Cristian Homescu, Charles-Albert Lehalle, Barak Pearlmutter, Olivier Pironneau, Adil Reghai \n"
   ]
  }
 ],
 "metadata": {
  "kernelspec": {
   "display_name": "Python 3",
   "language": "python",
   "name": "python3"
  },
  "language_info": {
   "codemirror_mode": {
    "name": "ipython",
    "version": 3
   },
   "file_extension": ".py",
   "mimetype": "text/x-python",
   "name": "python",
   "nbconvert_exporter": "python",
   "pygments_lexer": "ipython3",
   "version": "3.6.1"
  }
 },
 "nbformat": 4,
 "nbformat_minor": 2
}
